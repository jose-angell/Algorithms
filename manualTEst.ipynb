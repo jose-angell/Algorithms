{
 "cells": [
  {
   "cell_type": "code",
   "execution_count": 3,
   "metadata": {},
   "outputs": [
    {
     "name": "stdout",
     "output_type": "stream",
     "text": [
      "[1, 4, 5, 6, 8, 8, 12, 41, 50, 78, 90, 455, 523, 548, 658, 987, 1100]\n"
     ]
    }
   ],
   "source": [
    "def insertionSort(array):\n",
    "    if len(array) <=1: return array\n",
    "    for i in range(1,len(array)):\n",
    "        (j,key)=(i-1,array[i])\n",
    "        while j>=0 and array[j]>key:\n",
    "            array[j+1] = array[j]\n",
    "            j-=1\n",
    "        array[j+1] = key\n",
    "    return array\n",
    "if __name__ == '__main__':\n",
    "    nums=  [1, 8, 6, 4, 8, 5, 12, 455, 78, 41, 50, 90, 1100, 548, 523, 658, 987]\n",
    "    print(insertionSort(nums))"
   ]
  }
 ],
 "metadata": {
  "kernelspec": {
   "display_name": "Python 3",
   "language": "python",
   "name": "python3"
  },
  "language_info": {
   "codemirror_mode": {
    "name": "ipython",
    "version": 3
   },
   "file_extension": ".py",
   "mimetype": "text/x-python",
   "name": "python",
   "nbconvert_exporter": "python",
   "pygments_lexer": "ipython3",
   "version": "3.12.2"
  }
 },
 "nbformat": 4,
 "nbformat_minor": 2
}
